{
 "cells": [
  {
   "cell_type": "code",
   "execution_count": 1,
   "metadata": {},
   "outputs": [],
   "source": [
    "import pandas as pd"
   ]
  },
  {
   "cell_type": "code",
   "execution_count": 10,
   "metadata": {},
   "outputs": [],
   "source": [
    "classes = list(pd.read_csv(\"classes.csv\")[' Fixed-wing Aircraft'].values)"
   ]
  },
  {
   "cell_type": "code",
   "execution_count": 11,
   "metadata": {},
   "outputs": [],
   "source": [
    "classes.insert(0, ' Fixed-wing Aircraft')"
   ]
  },
  {
   "cell_type": "code",
   "execution_count": 13,
   "metadata": {},
   "outputs": [
    {
     "data": {
      "text/plain": [
       "60"
      ]
     },
     "execution_count": 13,
     "metadata": {},
     "output_type": "execute_result"
    }
   ],
   "source": [
    "len(classes)"
   ]
  },
  {
   "cell_type": "code",
   "execution_count": 15,
   "metadata": {},
   "outputs": [],
   "source": [
    "classes = [i.strip() for i in classes]"
   ]
  },
  {
   "cell_type": "code",
   "execution_count": 16,
   "metadata": {},
   "outputs": [
    {
     "data": {
      "text/plain": [
       "['Fixed-wing Aircraft',\n",
       " 'Small Aircraft',\n",
       " 'Cargo Plane',\n",
       " 'Helicopter',\n",
       " 'Passenger Vehicle',\n",
       " 'Small Car',\n",
       " 'Bus',\n",
       " 'Pickup Truck',\n",
       " 'Utility Truck',\n",
       " 'Truck',\n",
       " 'Cargo Truck',\n",
       " 'Truck w/Box',\n",
       " 'Truck Tractor',\n",
       " 'Trailer',\n",
       " 'Truck w/Flatbed',\n",
       " 'Truck w/Liquid',\n",
       " 'Crane Truck',\n",
       " 'Railway Vehicle',\n",
       " 'Passenger Car',\n",
       " 'Cargo Car',\n",
       " 'Flat Car',\n",
       " 'Tank car',\n",
       " 'Locomotive',\n",
       " 'Maritime Vessel',\n",
       " 'Motorboat',\n",
       " 'Sailboat',\n",
       " 'Tugboat',\n",
       " 'Barge',\n",
       " 'Fishing Vessel',\n",
       " 'Ferry',\n",
       " 'Yacht',\n",
       " 'Container Ship',\n",
       " 'Oil Tanker',\n",
       " 'Engineering Vehicle',\n",
       " 'Tower crane',\n",
       " 'Container Crane',\n",
       " 'Reach Stacker',\n",
       " 'Straddle Carrier',\n",
       " 'Mobile Crane',\n",
       " 'Dump Truck',\n",
       " 'Haul Truck',\n",
       " 'Scraper/Tractor',\n",
       " 'Front loader/Bulldozer',\n",
       " 'Excavator',\n",
       " 'Cement Mixer',\n",
       " 'Ground Grader',\n",
       " 'Hut/Tent',\n",
       " 'Shed',\n",
       " 'Building',\n",
       " 'Aircraft Hangar',\n",
       " 'Damaged Building',\n",
       " 'Facility',\n",
       " 'Construction Site',\n",
       " 'Vehicle Lot',\n",
       " 'Helipad',\n",
       " 'Storage Tank',\n",
       " 'Shipping container lot',\n",
       " 'Shipping Container',\n",
       " 'Pylon',\n",
       " 'Tower']"
      ]
     },
     "execution_count": 16,
     "metadata": {},
     "output_type": "execute_result"
    }
   ],
   "source": [
    "classes"
   ]
  },
  {
   "cell_type": "code",
   "execution_count": null,
   "metadata": {},
   "outputs": [],
   "source": []
  }
 ],
 "metadata": {
  "kernelspec": {
   "display_name": "Python 3.10.4 ('yolo_pytorch')",
   "language": "python",
   "name": "python3"
  },
  "language_info": {
   "codemirror_mode": {
    "name": "ipython",
    "version": 3
   },
   "file_extension": ".py",
   "mimetype": "text/x-python",
   "name": "python",
   "nbconvert_exporter": "python",
   "pygments_lexer": "ipython3",
   "version": "3.10.4"
  },
  "orig_nbformat": 4,
  "vscode": {
   "interpreter": {
    "hash": "4b71bb9b09c4c6f7c4f98fa48cdcc5ebf0cd9907f58a7dc376fc6023b0f69e97"
   }
  }
 },
 "nbformat": 4,
 "nbformat_minor": 2
}
